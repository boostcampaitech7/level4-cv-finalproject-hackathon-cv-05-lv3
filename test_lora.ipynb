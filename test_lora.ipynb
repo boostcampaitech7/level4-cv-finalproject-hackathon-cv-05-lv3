{
 "cells": [
  {
   "cell_type": "code",
   "execution_count": 4,
   "metadata": {},
   "outputs": [
    {
     "data": {
      "application/vnd.jupyter.widget-view+json": {
       "model_id": "a15d79bed22846448d1244c13981961f",
       "version_major": 2,
       "version_minor": 0
      },
      "text/plain": [
       "Loading pipeline components...:   0%|          | 0/7 [00:00<?, ?it/s]"
      ]
     },
     "metadata": {},
     "output_type": "display_data"
    },
    {
     "data": {
      "application/vnd.jupyter.widget-view+json": {
       "model_id": "22f3163b8cce4fdbaad47da5d567003f",
       "version_major": 2,
       "version_minor": 0
      },
      "text/plain": [
       "  0%|          | 0/50 [00:00<?, ?it/s]"
      ]
     },
     "metadata": {},
     "output_type": "display_data"
    }
   ],
   "source": [
    "import torch\n",
    "from diffusers import StableDiffusionPipeline\n",
    "from safetensors.torch import load_file\n",
    "\n",
    "# 1. Stable Diffusion 모델 로드\n",
    "model_id = \"runwayml/stable-diffusion-v1-5\"  # SD 1.5 모델 사용\n",
    "pipe = StableDiffusionPipeline.from_pretrained(model_id, torch_dtype=torch.float16).to(\"cuda\")\n",
    "\n",
    "# 2. LoRA 가중치 로드\n",
    "lora_path = \"/data/ephemeral/home/badge.safetensors\"  # 업로드한 LoRA 파일 경로\n",
    "lora_weights = load_file(lora_path)\n",
    "\n",
    "# 3. LoRA를 모델에 병합\n",
    "def apply_lora(pipe, lora_weights, alpha=1.0):\n",
    "    # 모델의 텍스트 인코더와 U-Net 가중치 업데이트\n",
    "    for key, value in lora_weights.items():\n",
    "        layer_name, param_type = key.split(\".\")[0], key.split(\".\")[-1]\n",
    "        \n",
    "        if \"text_encoder\" in key:\n",
    "            layer = pipe.text_encoder\n",
    "        elif \"unet\" in key:\n",
    "            layer = pipe.unet\n",
    "        else:\n",
    "            continue\n",
    "\n",
    "        layer_dict = dict(layer.named_parameters())\n",
    "        if key in layer_dict:\n",
    "            layer_dict[key].data += alpha * value.to(layer_dict[key].device)\n",
    "\n",
    "apply_lora(pipe, lora_weights)\n",
    "\n",
    "# 4. 이미지 생성\n",
    "prompt = \"octagonal badge with futuristic design\"\n",
    "num_images = 1\n",
    "\n",
    "images = pipe(prompt, num_images_per_prompt=num_images, guidance_scale=7.5).images\n",
    "\n",
    "# 5. 결과 저장\n",
    "for i, img in enumerate(images):\n",
    "    img.save(f\"generated_image_{i}.png\")"
   ]
  },
  {
   "cell_type": "code",
   "execution_count": 6,
   "metadata": {},
   "outputs": [
    {
     "data": {
      "application/vnd.jupyter.widget-view+json": {
       "model_id": "ae7b24e065ef47fd95602291dfe4cb84",
       "version_major": 2,
       "version_minor": 0
      },
      "text/plain": [
       "Loading pipeline components...:   0%|          | 0/7 [00:00<?, ?it/s]"
      ]
     },
     "metadata": {},
     "output_type": "display_data"
    },
    {
     "data": {
      "application/vnd.jupyter.widget-view+json": {
       "model_id": "8419e7a61da541288b9b601f1f25ba93",
       "version_major": 2,
       "version_minor": 0
      },
      "text/plain": [
       "  0%|          | 0/40 [00:00<?, ?it/s]"
      ]
     },
     "metadata": {},
     "output_type": "display_data"
    }
   ],
   "source": [
    "import torch\n",
    "from PIL import Image\n",
    "from diffusers import StableDiffusionImg2ImgPipeline\n",
    "from safetensors.torch import load_file\n",
    "\n",
    "# 1. Stable Diffusion 모델 로드\n",
    "model_id = \"runwayml/stable-diffusion-v1-5\"  # SD 1.5 모델 사용\n",
    "pipe = StableDiffusionImg2ImgPipeline.from_pretrained(model_id, torch_dtype=torch.float16).to(\"cuda\")\n",
    "\n",
    "# 2. LoRA 가중치 로드\n",
    "lora_path = \"/data/ephemeral/home/badge.safetensors\"  # LoRA 파일 경로\n",
    "lora_weights = load_file(lora_path)\n",
    "\n",
    "# 3. LoRA를 모델에 병합\n",
    "def apply_lora(pipe, lora_weights, alpha=1.0):\n",
    "    # 모델의 텍스트 인코더와 U-Net 가중치 업데이트\n",
    "    for key, value in lora_weights.items():\n",
    "        layer_name, param_type = key.split(\".\")[0], key.split(\".\")[-1]\n",
    "        \n",
    "        if \"text_encoder\" in key:\n",
    "            layer = pipe.text_encoder\n",
    "        elif \"unet\" in key:\n",
    "            layer = pipe.unet\n",
    "        else:\n",
    "            continue\n",
    "\n",
    "        layer_dict = dict(layer.named_parameters())\n",
    "        if key in layer_dict:\n",
    "            layer_dict[key].data += alpha * value.to(layer_dict[key].device)\n",
    "\n",
    "apply_lora(pipe, lora_weights)\n",
    "\n",
    "# 4. 입력 이미지 로드\n",
    "input_image_path = \"/data/ephemeral/home/test01.jpg\"  # 원본 이미지 경로\n",
    "init_image = Image.open(input_image_path).convert(\"RGB\")\n",
    "init_image = init_image.resize((512, 512))  # Stable Diffusion 모델의 입력 크기에 맞게 조정\n",
    "\n",
    "# 5. img2img 생성\n",
    "prompt = \"octagonal badge with futuristic design\"  # 텍스트 프롬프트\n",
    "num_images = 1\n",
    "strength = 0.8  # 원본 이미지에 대한 영향도 (0.0: 완전히 원본, 1.0: 완전히 새로운 이미지)\n",
    "guidance_scale = 7.5  # 텍스트 프롬프트에 대한 가중치\n",
    "\n",
    "images = pipe(prompt=prompt, image=init_image, strength=strength, guidance_scale=guidance_scale, num_images_per_prompt=num_images).images\n",
    "\n",
    "# 6. 결과 저장\n",
    "for i, img in enumerate(images):\n",
    "    img.save(f\"generated_img2img_{i}.png\")\n"
   ]
  }
 ],
 "metadata": {
  "kernelspec": {
   "display_name": "Python (sdlora)",
   "language": "python",
   "name": "sdlora"
  },
  "language_info": {
   "codemirror_mode": {
    "name": "ipython",
    "version": 3
   },
   "file_extension": ".py",
   "mimetype": "text/x-python",
   "name": "python",
   "nbconvert_exporter": "python",
   "pygments_lexer": "ipython3",
   "version": "3.10.4"
  }
 },
 "nbformat": 4,
 "nbformat_minor": 2
}
