{
 "cells": [
  {
   "cell_type": "code",
   "execution_count": 14,
   "metadata": {},
   "outputs": [],
   "source": [
    "import os\n",
    "import faiss\n",
    "import pandas as pd\n",
    "from sqlalchemy import create_engine\n",
    "from sqlalchemy.orm import sessionmaker\n",
    "from app.database.models import Book, User, Badge\n",
    "from app.database.crud import create_book, get_books\n",
    "from sqlalchemy import text\n",
    "from dotenv import load_dotenv\n",
    "\n",
    "load_dotenv()\n",
    "\n",
    "MYSQL_USER = os.getenv('MYSQL_USER')\n",
    "MYSQL_PASSWORD = os.getenv('MYSQL_PASSWORD')\n",
    "MYSQL_HOST = os.getenv('MYSQL_HOST')\n",
    "MYSQL_PORT = os.getenv('MYSQL_PORT')\n",
    "MYSQL_DB = os.getenv('MYSQL_DB')\n",
    "\n",
    "# 데이터베이스 연결 설정\n",
    "DATABASE_URL = f\"mysql+pymysql://{MYSQL_USER}:{MYSQL_PASSWORD}@{MYSQL_HOST}:{MYSQL_PORT}/{MYSQL_DB}\"\n",
    "engine = create_engine(DATABASE_URL)\n",
    "SessionLocal = sessionmaker(autocommit=False, autoflush=False, bind=engine)\n",
    "\n",
    "# 데이터베이스 세션 생성\n",
    "mysql_db = SessionLocal()"
   ]
  },
  {
   "cell_type": "code",
   "execution_count": 19,
   "metadata": {},
   "outputs": [],
   "source": [
    "POSTGRES_USER= os.getenv(\"POSTGRES_USER\")\n",
    "POSTGRES_PASSWORD = os.getenv(\"POSTGRES_PASSWORD\")\n",
    "POSTGRES_HOST = os.getenv(\"POSTGRES_HOST\")\n",
    "POSTGRES_PORT = os.getenv(\"POSTGRES_PORT\")\n",
    "POSTGRES_DB = os.getenv(\"POSTGRES_DB\")\n",
    "\n",
    "# 데이터베이스 연결 설정\n",
    "DATABASE_URL = f\"postgresql://{POSTGRES_USER}:{POSTGRES_PASSWORD}@{POSTGRES_HOST}:{POSTGRES_PORT}/{POSTGRES_DB}\"\n",
    "engine = create_engine(DATABASE_URL)\n",
    "SessionLocal = sessionmaker(autocommit=False, autoflush=False, bind=engine)\n",
    "\n",
    "# 데이터베이스 세션 생성\n",
    "postgresql_db = SessionLocal()"
   ]
  },
  {
   "cell_type": "code",
   "execution_count": 3,
   "metadata": {},
   "outputs": [
    {
     "name": "stdout",
     "output_type": "stream",
     "text": [
      "CREATE TABLE `badges` (\n",
      "  `badge_id` bigint NOT NULL AUTO_INCREMENT,\n",
      "  `user_id` varchar(64) NOT NULL,\n",
      "  `book_id` bigint NOT NULL,\n",
      "  `badge_image` varchar(2048) NOT NULL,\n",
      "  `created_at` timestamp NOT NULL DEFAULT (now()),\n",
      "  PRIMARY KEY (`badge_id`),\n",
      "  KEY `user_id` (`user_id`),\n",
      "  KEY `book_id` (`book_id`),\n",
      "  CONSTRAINT `badges_ibfk_1` FOREIGN KEY (`user_id`) REFERENCES `users` (`user_id`),\n",
      "  CONSTRAINT `badges_ibfk_2` FOREIGN KEY (`book_id`) REFERENCES `books` (`book_id`)\n",
      ") ENGINE=InnoDB DEFAULT CHARSET=utf8mb4 COLLATE=utf8mb4_0900_ai_ci\n"
     ]
    }
   ],
   "source": [
    "result = mysql_db.execute(text(\"SHOW CREATE TABLE badges\"))\n",
    "table_structure = result.fetchone()[1]  # 결과에서 BADGE TABLE 구문 가져오기\n",
    "print(table_structure)  # 테이블 생성 SQL 출력"
   ]
  },
  {
   "cell_type": "code",
   "execution_count": 5,
   "metadata": {},
   "outputs": [
    {
     "name": "stdout",
     "output_type": "stream",
     "text": [
      "CREATE TABLE `users` (\n",
      "  `user_id` varchar(64) NOT NULL,\n",
      "  `birth_year` varchar(4) NOT NULL,\n",
      "  `gender` enum('M','F') NOT NULL,\n",
      "  PRIMARY KEY (`user_id`),\n",
      "  CONSTRAINT `chk_birth_year_format` CHECK (((length(`birth_year`) = 4) and regexp_like(`birth_year`,_utf8mb4'^[0-9]{4}$')))\n",
      ") ENGINE=InnoDB DEFAULT CHARSET=utf8mb4 COLLATE=utf8mb4_0900_ai_ci\n"
     ]
    }
   ],
   "source": [
    "result = mysql_db.execute(text(\"SHOW CREATE TABLE users\"))\n",
    "table_structure = result.fetchone()[1]  # 결과에서 BADGE TABLE 구문 가져오기\n",
    "print(table_structure)  # 테이블 생성 SQL 출력"
   ]
  },
  {
   "cell_type": "code",
   "execution_count": 31,
   "metadata": {},
   "outputs": [
    {
     "name": "stdout",
     "output_type": "stream",
     "text": [
      "CREATE TABLE `books` (\n",
      "  `book_id` bigint NOT NULL AUTO_INCREMENT,\n",
      "  `title` varchar(1024) NOT NULL,\n",
      "  `author` varchar(1024) DEFAULT NULL,\n",
      "  `publisher` varchar(255) DEFAULT NULL,\n",
      "  `pubdate` date DEFAULT NULL,\n",
      "  `isbn` varchar(20) DEFAULT NULL,\n",
      "  `description` text,\n",
      "  `image` varchar(2048) DEFAULT NULL,\n",
      "  PRIMARY KEY (`book_id`)\n",
      ") ENGINE=InnoDB DEFAULT CHARSET=utf8mb4 COLLATE=utf8mb4_0900_ai_ci\n"
     ]
    }
   ],
   "source": [
    "result = mysql_db.execute(text(\"SHOW CREATE TABLE books\"))\n",
    "table_structure = result.fetchone()[1]  # 결과에서 BADGE TABLE 구문 가져오기\n",
    "print(table_structure)  # 테이블 생성 SQL 출력"
   ]
  },
  {
   "cell_type": "code",
   "execution_count": 25,
   "metadata": {},
   "outputs": [],
   "source": [
    "mysql_db.rollback()\n",
    "postgresql_db.rollback()"
   ]
  },
  {
   "cell_type": "code",
   "execution_count": 30,
   "metadata": {},
   "outputs": [
    {
     "name": "stdout",
     "output_type": "stream",
     "text": [
      "CREATE TABLE `recommended_books` (\n",
      "  `recommendation_id` bigint NOT NULL AUTO_INCREMENT,\n",
      "  `book_id` bigint NOT NULL,\n",
      "  `user_id` varchar(64) NOT NULL,\n",
      "  `session_id` varchar(255) NOT NULL,\n",
      "  `recommended_at` timestamp NOT NULL DEFAULT (now()),\n",
      "  `finished_at` timestamp NULL DEFAULT NULL,\n",
      "  PRIMARY KEY (`recommendation_id`),\n",
      "  KEY `book_id` (`book_id`),\n",
      "  KEY `user_id` (`user_id`),\n",
      "  KEY `session_id` (`session_id`),\n",
      "  CONSTRAINT `recommended_books_ibfk_1` FOREIGN KEY (`book_id`) REFERENCES `books` (`book_id`),\n",
      "  CONSTRAINT `recommended_books_ibfk_2` FOREIGN KEY (`user_id`) REFERENCES `users` (`user_id`),\n",
      "  CONSTRAINT `recommended_books_ibfk_3` FOREIGN KEY (`session_id`) REFERENCES `sessions` (`session_id`)\n",
      ") ENGINE=InnoDB DEFAULT CHARSET=utf8mb4 COLLATE=utf8mb4_0900_ai_ci\n"
     ]
    }
   ],
   "source": [
    "result = mysql_db.execute(text(\"SHOW CREATE TABLE recommended_books\"))\n",
    "table_structure = result.fetchone()[1]  # 결과에서 BADGE TABLE 구문 가져오기\n",
    "print(table_structure)  # 테이블 생성 SQL 출력"
   ]
  },
  {
   "cell_type": "code",
   "execution_count": 23,
   "metadata": {},
   "outputs": [
    {
     "name": "stdout",
     "output_type": "stream",
     "text": [
      "('question_id', 'bigint')\n",
      "('question_text', 'jsonb')\n",
      "('created_at', 'timestamp without time zone')\n",
      "('user_id', 'character varying')\n",
      "('session_id', 'character varying')\n"
     ]
    }
   ],
   "source": [
    "query = \"\"\"\n",
    "SELECT column_name, data_type \n",
    "FROM information_schema.columns \n",
    "WHERE table_name = 'user_questions'\n",
    "\"\"\"\n",
    "\n",
    "result = postgresql_db.execute(text(query))\n",
    "columns = result.fetchall()\n",
    "\n",
    "for column in columns:\n",
    "    print(column)"
   ]
  },
  {
   "cell_type": "code",
   "execution_count": 26,
   "metadata": {},
   "outputs": [
    {
     "name": "stdout",
     "output_type": "stream",
     "text": [
      "('answer_id', 'bigint')\n",
      "('answer_text', 'jsonb')\n",
      "('created_at', 'timestamp without time zone')\n",
      "('user_id', 'character varying')\n",
      "('session_id', 'character varying')\n"
     ]
    }
   ],
   "source": [
    "query = \"\"\"\n",
    "SELECT column_name, data_type \n",
    "FROM information_schema.columns \n",
    "WHERE table_name = 'clova_answers'\n",
    "\"\"\"\n",
    "\n",
    "result = postgresql_db.execute(text(query))\n",
    "columns = result.fetchall()\n",
    "\n",
    "for column in columns:\n",
    "    print(column)"
   ]
  },
  {
   "cell_type": "code",
   "execution_count": 5,
   "metadata": {},
   "outputs": [
    {
     "name": "stdout",
     "output_type": "stream",
     "text": [
      "🚀 [수정 완료] `badge_audio_url` 컬럼이 삭제되었습니다!\n"
     ]
    }
   ],
   "source": [
    "def alter_badge_table(db):\n",
    "    try:\n",
    "        # `badge_audio_url` 컬럼 삭제\n",
    "        db.execute(text(\"ALTER TABLE badges DROP COLUMN badge_audio_url\"))\n",
    "\n",
    "        db.commit()\n",
    "        print(\"🚀 [수정 완료] `badge_audio_url` 컬럼이 삭제되었습니다!\")\n",
    "    except Exception as e:\n",
    "        db.rollback()\n",
    "        print(f\"❌ [오류 발생] {e}\")\n",
    "\n",
    "# 실행\n",
    "alter_badge_table(mysql_db)"
   ]
  },
  {
   "cell_type": "code",
   "execution_count": 10,
   "metadata": {},
   "outputs": [
    {
     "name": "stdout",
     "output_type": "stream",
     "text": [
      "❌ [오류 발생] (pymysql.err.OperationalError) (1091, \"Can't DROP 'name'; check that column/key exists\")\n",
      "[SQL: ALTER TABLE users DROP COLUMN name]\n",
      "(Background on this error at: https://sqlalche.me/e/20/e3q8)\n"
     ]
    }
   ],
   "source": [
    "def alter_users_table(db):\n",
    "    try:\n",
    "        # `name`, `phone_number`, `email` 컬럼 삭제\n",
    "        db.execute(text(\"ALTER TABLE users DROP COLUMN name\"))\n",
    "        db.execute(text(\"ALTER TABLE users DROP COLUMN phone_number\"))\n",
    "        db.execute(text(\"ALTER TABLE users DROP COLUMN email\"))\n",
    "\n",
    "        db.commit()\n",
    "        print(\"🚀 [수정 완료] `name`, `phone_number`, `email` 컬럼이 삭제되었습니다!\")\n",
    "    except Exception as e:\n",
    "        db.rollback()\n",
    "        print(f\"❌ [오류 발생] {e}\")\n",
    "\n",
    "# 실행\n",
    "alter_users_table(mysql_db)"
   ]
  },
  {
   "cell_type": "code",
   "execution_count": 29,
   "metadata": {},
   "outputs": [
    {
     "name": "stdout",
     "output_type": "stream",
     "text": [
      "🚀 [수정 완료]\n"
     ]
    }
   ],
   "source": [
    "mysql_db. rollback()\n",
    "\n",
    "def alter_recommended_books_table(db):\n",
    "    try:\n",
    "        # ✅ 올바른 테이블 이름으로 수정\n",
    "        db.execute(text(\"ALTER TABLE recommended_books MODIFY COLUMN finished_at TIMESTAMP NULL DEFAULT NULL\"))\n",
    "        db.commit()\n",
    "        print(\"🚀 [수정 완료]\")\n",
    "    except Exception as e:\n",
    "        db.rollback()\n",
    "        print(f\"❌ [오류 발생] {e}\")\n",
    "\n",
    "# 실행\n",
    "alter_recommended_books_table(mysql_db)\n"
   ]
  },
  {
   "cell_type": "code",
   "execution_count": null,
   "metadata": {},
   "outputs": [],
   "source": [
    "mysql_db. rollback()\n",
    "\n",
    "def alter_books_table(db):\n",
    "    try:\n",
    "        # ✅ 올바른 테이블 이름으로 수정\n",
    "        db.execute(text(\"ALTER TABLE books MODIFY COLUMN finished_at TIMESTAMP NULL DEFAULT NULL\"))\n",
    "        db.commit()\n",
    "        print(\"🚀 [수정 완료]\")\n",
    "    except Exception as e:\n",
    "        db.rollback()\n",
    "        print(f\"❌ [오류 발생] {e}\")\n",
    "\n",
    "# 실행\n",
    "alter_books_table(mysql_db)"
   ]
  }
 ],
 "metadata": {
  "kernelspec": {
   "display_name": "test",
   "language": "python",
   "name": "python3"
  },
  "language_info": {
   "codemirror_mode": {
    "name": "ipython",
    "version": 3
   },
   "file_extension": ".py",
   "mimetype": "text/x-python",
   "name": "python",
   "nbconvert_exporter": "python",
   "pygments_lexer": "ipython3",
   "version": "3.10.13"
  }
 },
 "nbformat": 4,
 "nbformat_minor": 2
}
